{
 "cells": [
  {
   "cell_type": "code",
   "execution_count": 1,
   "metadata": {},
   "outputs": [
    {
     "name": "stderr",
     "output_type": "stream",
     "text": [
      "/root/miniconda3/envs/myenv/lib/python3.8/site-packages/tqdm/auto.py:21: TqdmWarning: IProgress not found. Please update jupyter and ipywidgets. See https://ipywidgets.readthedocs.io/en/stable/user_install.html\n",
      "  from .autonotebook import tqdm as notebook_tqdm\n"
     ]
    }
   ],
   "source": [
    "from contextlib import nullcontext\n",
    "import os\n",
    "import torch\n",
    "import numpy as np\n",
    "from datetime import datetime\n",
    "import time\n",
    "from prettytable import PrettyTable\n",
    "import os\n",
    "from PIL import Image\n",
    "import torch\n",
    "from torch.utils.data import Dataset, DataLoader\n",
    "from torchvision import transforms\n",
    "from tqdm import tqdm\n",
    "from img_utils import *\n",
    "import wandb\n",
    "import torch\n",
    "import torch.nn as nn\n",
    "\n",
    "\n",
    "class Timer:\n",
    "    def __init__(self, start_msg = \"\", end_msg = \"\"):\n",
    "    \n",
    "        self.start_msg = start_msg\n",
    "        self.end_msg = end_msg\n",
    "        \n",
    "    def __enter__(self):\n",
    "        if self.start_msg != \"\":\n",
    "            print(self.start_msg)\n",
    "        self.start_time = time.time()\n",
    "        return self\n",
    "\n",
    "    def __exit__(self, exc_type, exc_val, exc_tb):\n",
    "        elapsed_time = time.time() - self.start_time\n",
    "        print(self.end_msg, f\"{elapsed_time:.3f} sec\")\n",
    "\n",
    "\n",
    "def count_parameters(model, print_table = False):\n",
    "    \n",
    "    total_params = 0\n",
    "    \n",
    "    if(print_table):\n",
    "        table = PrettyTable([\"Modules\", \"Parameters\", \"dtype\", \"Required Grad\", \"Device\"]) \n",
    "    \n",
    "    for name, parameter in model.named_parameters():\n",
    "        params = parameter.numel()\n",
    "        \n",
    "        if(print_table):\n",
    "            table.add_row([name, parameter.shape, parameter.dtype, parameter.requires_grad, parameter.device ])\n",
    "            \n",
    "        total_params += params\n",
    "        \n",
    "    if(print_table):\n",
    "        print(table)\n",
    "        \n",
    "    if total_params/1e9 > 1:\n",
    "        print(f\"Total Trainable Params: {total_params/1e9} B\")\n",
    "    else:\n",
    "        print(f\"Total Trainable Params: {total_params/1e6} M\")\n",
    "        \n",
    "    return total_params\n",
    "\n",
    "\n",
    "\n",
    "class ImageMaskDataset(Dataset):\n",
    "    def __init__(self, image_dir, mask_dir, src_dir,transform=None, maskTransform=None):\n",
    "        self.image_dir = image_dir\n",
    "        self.mask_dir = mask_dir\n",
    "        self.src_dir = src_dir\n",
    "        self.transform = transform\n",
    "        self.maskTransform = maskTransform\n",
    "        self.image_names = sorted(os.listdir(image_dir))\n",
    "        self.src_names = sorted(os.listdir(src_dir))\n",
    "        self.mask_names = sorted(os.listdir(mask_dir))\n",
    "\n",
    "    def __len__(self):\n",
    "        return len(self.image_names)\n",
    "\n",
    "    def __getitem__(self, idx):\n",
    "        image_name = self.image_names[idx]\n",
    "        mask_name = self.mask_names[idx]\n",
    "        src_name = self.src_names[idx]\n",
    "        \n",
    "        image_path = os.path.join(self.image_dir, image_name)\n",
    "        mask_path = os.path.join(self.mask_dir, mask_name)\n",
    "        src_path = os.path.join(self.src_dir, src_name)\n",
    "        \n",
    "        image = Image.open(image_path).convert('RGB')\n",
    "        src = Image.open(src_path).convert('RGB')\n",
    "        mask = np.load(mask_path)\n",
    "        \n",
    "        \n",
    "        if self.transform:\n",
    "            image = self.transform(image)\n",
    "            src = self.transform(src)\n",
    "            mask = self.maskTransform(mask)\n",
    "        \n",
    "        return image, src,mask\n",
    "\n",
    "# Define the transforms\n",
    "transform = transforms.Compose([\n",
    "    transforms.ToTensor(),  # Convert PIL Image to tensor\n",
    "    transforms.Normalize((0.5,), (0.5,))  # Normalize the image to [-1,1]\n",
    "])\n",
    "maskTransform = transforms.Compose([\n",
    "    transforms.ToTensor(),  # Convert PIL Image to tensor\n",
    "])"
   ]
  },
  {
   "cell_type": "code",
   "execution_count": 2,
   "metadata": {},
   "outputs": [],
   "source": [
    "class ResnetBlock(nn.Module):\n",
    "    def __init__(self, out_c,padding=1):\n",
    "        super().__init__()\n",
    "\n",
    "        self.conv1 = nn.Conv2d(out_c,out_c,3,1,padding)\n",
    "        self.conv2 = nn.Conv2d(out_c,out_c,3,1,padding)\n",
    "        self.conv3 = nn.Conv2d(out_c,out_c,3,1,padding)\n",
    "        self.norm = nn.BatchNorm2d(out_c)\n",
    "        self.silu = nn.SiLU()\n",
    "\n",
    "    def forward(self, x):\n",
    "\n",
    "        x = self.conv3(self.conv2(self.conv1(x)))\n",
    "        x = self.norm(x) + x\n",
    "        x = self.silu(x)\n",
    "\n",
    "        return x\n",
    "\n",
    "\n",
    "\n",
    "class Encoder(nn.Module):\n",
    "    def __init__(self, in_c, out_c,  padding=1):\n",
    "        super().__init__()\n",
    "\n",
    "        self.conv1 = nn.Conv2d(in_c,out_c,3,1,padding)\n",
    "        self.conv2 = nn.Conv2d(out_c,out_c,3,1,padding)\n",
    "        self.conv3 = nn.Conv2d(out_c,out_c,3,1,padding)\n",
    "\n",
    "        self.resBlocks = nn.ModuleList([ResnetBlock(out_c, padding) for i in range(3)])\n",
    "\n",
    "        self.silu = nn.SiLU()\n",
    "        self.pool = nn.MaxPool2d(2)\n",
    "\n",
    "    def forward(self, x):\n",
    "\n",
    "        x = self.conv3(self.conv2(self.conv1(x)))\n",
    "        x = self.silu(x)\n",
    "\n",
    "        for block in self.resBlocks:\n",
    "            x = block(x)\n",
    "\n",
    "        return self.pool(x), x\n",
    "\n",
    "\n",
    "class Decoder(nn.Module):\n",
    "    def __init__(self, in_c, out_c, img_sizes, padding=1):\n",
    "        super().__init__()\n",
    "\n",
    "        self.upsample = nn.Upsample(size=img_sizes, mode=\"bilinear\")\n",
    "\n",
    "\n",
    "        self.conv1 = nn.Conv2d(in_c,in_c,3,1, padding)\n",
    "        self.conv2 = nn.Conv2d(in_c,in_c,3,1, padding)\n",
    "        self.conv3 = nn.Conv2d(in_c,in_c//2,3,1, padding)\n",
    "\n",
    "\n",
    "        self.conv4 = nn.Conv2d(in_c,out_c,3,1, padding)\n",
    "        self.conv5 = nn.Conv2d(out_c,out_c,3,1, padding)\n",
    "        self.conv6 = nn.Conv2d(out_c,out_c,3,1, padding)\n",
    "\n",
    "\n",
    "        self.resBlocks = nn.ModuleList([ResnetBlock(out_c, padding) for i in range(3)])\n",
    "\n",
    "        self.silu = nn.SiLU()\n",
    "\n",
    "    def forward(self, x, skip):\n",
    "\n",
    "        x = self.upsample(x)\n",
    "        x = self.conv3(self.conv2(self.conv1(x)))\n",
    "        x = torch.cat((x, skip), dim = 1)\n",
    "        x = self.conv6(self.conv5(self.conv4(x)))\n",
    "        x = self.silu(x)\n",
    "\n",
    "        for block in self.resBlocks:\n",
    "\n",
    "            x = block(x)\n",
    "\n",
    "        return x\n",
    "\n",
    "\n",
    "class Unet(nn.Module):\n",
    "    def __init__(self):\n",
    "        super().__init__()\n",
    "\n",
    "        self.encoders = nn.ModuleList([Encoder(*i) for i in [(3,32), (32,64), (64, 128), (128, 256), (256, 512)]])\n",
    "\n",
    "        self.imageDecoders = nn.ModuleList([Decoder(*i) for i in [(512,256, (21,37)), (256,128,(42,74)), (128, 64,(84,149)), (64, 32,(168,298))]])\n",
    "\n",
    "        self.maskDecoders = nn.ModuleList([Decoder(*i) for i in [(512,256, (21,37)), (256,128,(42,74)), (128, 64,(84,149)), (64, 32,(168,298))]])\n",
    "\n",
    "        self.imgDecoder = nn.Conv2d(32,3,1,1)\n",
    "        self.tanh = nn.Tanh()\n",
    "\n",
    "        self.maskDecoder = nn.Conv2d(32,1,1,1)\n",
    "        self.sigmoid = nn.Sigmoid()\n",
    "\n",
    "\n",
    "    def forward(self, x):\n",
    "\n",
    "        skips = []\n",
    "        for enc in self.encoders:\n",
    "            x, skip = enc(x)\n",
    "            skips.append(skip)\n",
    "\n",
    "        x = skips[-1]\n",
    "\n",
    "        for idx, dec in enumerate(self.imageDecoders):\n",
    "            x = dec(x, skips[3-idx])\n",
    "\n",
    "        image = self.tanh(self.imgDecoder(x))\n",
    "\n",
    "        x = skips[-1]\n",
    "\n",
    "        for idx, dec in enumerate(self.maskDecoders):\n",
    "            x = dec(x, skips[3-idx])\n",
    "            \n",
    "        mask = self.sigmoid(self.maskDecoder(x))\n",
    "        return image, mask"
   ]
  },
  {
   "cell_type": "code",
   "execution_count": 3,
   "metadata": {},
   "outputs": [
    {
     "name": "stdout",
     "output_type": "stream",
     "text": [
      "Total Trainable Params: 72.211428 M\n"
     ]
    }
   ],
   "source": [
    "lr = 1e-4\n",
    "# bce = nn.BCEWithLogitsLoss()\n",
    "bce = nn.BCELoss()\n",
    "bs = 48\n",
    "\n",
    "\n",
    "device = \"cuda\" if torch.cuda.is_available() else \"cpu\"\n",
    "# device = \"cpu\"\n",
    "unet = Unet().to(device)\n",
    "\n",
    "optimizer = torch.optim.AdamW(unet.parameters(), lr)\n",
    "\n",
    "image_dir = '/root/data/linum/train/corrupted_imgs/'\n",
    "mask_dir = '/root/data/linum/train/binary_masks/'\n",
    "src_dir = '/root/data/linum/train/src_imgs/'\n",
    "nparams = count_parameters(unet, print_table=False)\n",
    "dataset = ImageMaskDataset(image_dir=image_dir, mask_dir=mask_dir, src_dir = src_dir,transform=transform, maskTransform = maskTransform)\n",
    "dataloader = DataLoader(dataset, batch_size=bs, shuffle=True, num_workers=24)\n"
   ]
  },
  {
   "cell_type": "code",
   "execution_count": 4,
   "metadata": {},
   "outputs": [
    {
     "name": "stderr",
     "output_type": "stream",
     "text": [
      "Failed to detect the name of this notebook, you can set it manually with the WANDB_NOTEBOOK_NAME environment variable to enable code saving.\n",
      "\u001b[34m\u001b[1mwandb\u001b[0m: Currently logged in as: \u001b[33mbasujindal\u001b[0m (\u001b[33mbasujindal123\u001b[0m). Use \u001b[1m`wandb login --relogin`\u001b[0m to force relogin\n"
     ]
    },
    {
     "data": {
      "text/html": [
       "wandb version 0.17.0 is available!  To upgrade, please run:\n",
       " $ pip install wandb --upgrade"
      ],
      "text/plain": [
       "<IPython.core.display.HTML object>"
      ]
     },
     "metadata": {},
     "output_type": "display_data"
    },
    {
     "data": {
      "text/html": [
       "Tracking run with wandb version 0.16.6"
      ],
      "text/plain": [
       "<IPython.core.display.HTML object>"
      ]
     },
     "metadata": {},
     "output_type": "display_data"
    },
    {
     "data": {
      "text/html": [
       "Run data is saved locally in <code>/root/data/linum/wandb/run-20240521_062936-tfeg6wzz</code>"
      ],
      "text/plain": [
       "<IPython.core.display.HTML object>"
      ]
     },
     "metadata": {},
     "output_type": "display_data"
    },
    {
     "data": {
      "text/html": [
       "Syncing run <strong><a href='https://wandb.ai/basujindal123/linum/runs/tfeg6wzz' target=\"_blank\">stellar-plant-20</a></strong> to <a href='https://wandb.ai/basujindal123/linum' target=\"_blank\">Weights & Biases</a> (<a href='https://wandb.me/run' target=\"_blank\">docs</a>)<br/>"
      ],
      "text/plain": [
       "<IPython.core.display.HTML object>"
      ]
     },
     "metadata": {},
     "output_type": "display_data"
    },
    {
     "data": {
      "text/html": [
       " View project at <a href='https://wandb.ai/basujindal123/linum' target=\"_blank\">https://wandb.ai/basujindal123/linum</a>"
      ],
      "text/plain": [
       "<IPython.core.display.HTML object>"
      ]
     },
     "metadata": {},
     "output_type": "display_data"
    },
    {
     "data": {
      "text/html": [
       " View run at <a href='https://wandb.ai/basujindal123/linum/runs/tfeg6wzz' target=\"_blank\">https://wandb.ai/basujindal123/linum/runs/tfeg6wzz</a>"
      ],
      "text/plain": [
       "<IPython.core.display.HTML object>"
      ]
     },
     "metadata": {},
     "output_type": "display_data"
    }
   ],
   "source": [
    "log = False\n",
    "log = True\n",
    "log_iter = 20\n",
    "img_losses = 0\n",
    "mask_losses = 0\n",
    "iter = 0\n",
    "epochs = 25\n",
    "num_imgs = 3\n",
    "\n",
    "if log:\n",
    "    config={\"epochs\": epochs, \"batch_size\": bs,\"lr\": lr}\n",
    "    wandb.init(project='linum', entity='basujindal123', config=config)"
   ]
  },
  {
   "cell_type": "code",
   "execution_count": 5,
   "metadata": {},
   "outputs": [],
   "source": [
    "# convert_img_tensor_to_pil_img((masks.bool()*images)[0])\n",
    "# convert_img_tensor_to_pil_img((images)[0])\n",
    "# # convert_mask_tensor_to_pil_img(masks[0])\n",
    "# unet = torch.compile(unet)"
   ]
  },
  {
   "cell_type": "code",
   "execution_count": 6,
   "metadata": {},
   "outputs": [
    {
     "name": "stderr",
     "output_type": "stream",
     "text": [
      "  1%|          | 4/648 [00:14<32:04,  2.99s/it]  "
     ]
    },
    {
     "name": "stdout",
     "output_type": "stream",
     "text": [
      "0 4 613.0632619261742 0.4833302855491638 612.579931640625\n"
     ]
    },
    {
     "name": "stderr",
     "output_type": "stream",
     "text": [
      "  1%|▏         | 9/648 [00:22<19:36,  1.84s/it]"
     ]
    },
    {
     "name": "stdout",
     "output_type": "stream",
     "text": [
      "0 9 645.6492048740387 0.5533552646636963 645.095849609375\n"
     ]
    },
    {
     "name": "stderr",
     "output_type": "stream",
     "text": [
      "  2%|▏         | 14/648 [00:31<18:04,  1.71s/it]"
     ]
    },
    {
     "name": "stdout",
     "output_type": "stream",
     "text": [
      "0 14 594.9862143814564 0.5001792252063751 594.48603515625\n"
     ]
    },
    {
     "name": "stderr",
     "output_type": "stream",
     "text": [
      "  3%|▎         | 19/648 [00:39<18:12,  1.74s/it]"
     ]
    },
    {
     "name": "stdout",
     "output_type": "stream",
     "text": [
      "0 19 509.4382229685783 0.4368740916252136 509.0013488769531\n"
     ]
    },
    {
     "name": "stderr",
     "output_type": "stream",
     "text": [
      "  4%|▎         | 24/648 [00:47<17:29,  1.68s/it]"
     ]
    },
    {
     "name": "stdout",
     "output_type": "stream",
     "text": [
      "0 24 502.4263049423695 0.3585681259632111 502.06773681640624\n"
     ]
    },
    {
     "name": "stderr",
     "output_type": "stream",
     "text": [
      "  4%|▍         | 29/648 [00:56<17:16,  1.67s/it]"
     ]
    },
    {
     "name": "stdout",
     "output_type": "stream",
     "text": [
      "0 29 506.44429592490195 0.2614345967769623 506.182861328125\n"
     ]
    },
    {
     "name": "stderr",
     "output_type": "stream",
     "text": [
      "  5%|▌         | 34/648 [01:04<17:05,  1.67s/it]"
     ]
    },
    {
     "name": "stdout",
     "output_type": "stream",
     "text": [
      "0 34 478.1281729608774 0.1664297968149185 477.9617431640625\n"
     ]
    },
    {
     "name": "stderr",
     "output_type": "stream",
     "text": [
      "  6%|▌         | 39/648 [01:12<17:00,  1.68s/it]"
     ]
    },
    {
     "name": "stdout",
     "output_type": "stream",
     "text": [
      "0 39 491.39682470932604 0.08378759995102883 491.313037109375\n"
     ]
    },
    {
     "name": "stderr",
     "output_type": "stream",
     "text": [
      "  7%|▋         | 44/648 [01:20<16:52,  1.68s/it]"
     ]
    },
    {
     "name": "stdout",
     "output_type": "stream",
     "text": [
      "0 44 504.4131069464609 0.02347681950777769 504.38963012695314\n"
     ]
    },
    {
     "name": "stderr",
     "output_type": "stream",
     "text": [
      "  8%|▊         | 49/648 [01:29<16:45,  1.68s/it]"
     ]
    },
    {
     "name": "stdout",
     "output_type": "stream",
     "text": [
      "0 49 499.7596044704318 0.004843728244304657 499.7547607421875\n"
     ]
    },
    {
     "name": "stderr",
     "output_type": "stream",
     "text": [
      "  8%|▊         | 54/648 [01:37<16:43,  1.69s/it]"
     ]
    },
    {
     "name": "stdout",
     "output_type": "stream",
     "text": [
      "0 54 491.6873776607681 0.00305759240873158 491.6843200683594\n"
     ]
    },
    {
     "name": "stderr",
     "output_type": "stream",
     "text": [
      "  9%|▉         | 59/648 [01:45<16:27,  1.68s/it]"
     ]
    },
    {
     "name": "stdout",
     "output_type": "stream",
     "text": [
      "0 59 457.94624592959883 0.0029720038175582884 457.9432739257812\n"
     ]
    },
    {
     "name": "stderr",
     "output_type": "stream",
     "text": [
      " 10%|▉         | 64/648 [01:53<16:19,  1.68s/it]"
     ]
    },
    {
     "name": "stdout",
     "output_type": "stream",
     "text": [
      "0 64 484.3196352182422 0.0024294076953083276 484.31720581054685\n"
     ]
    },
    {
     "name": "stderr",
     "output_type": "stream",
     "text": [
      " 11%|█         | 69/648 [02:02<16:13,  1.68s/it]"
     ]
    },
    {
     "name": "stdout",
     "output_type": "stream",
     "text": [
      "0 69 468.49187536505053 0.002605345519259572 468.48927001953126\n"
     ]
    },
    {
     "name": "stderr",
     "output_type": "stream",
     "text": [
      " 11%|█▏        | 74/648 [02:10<16:05,  1.68s/it]"
     ]
    },
    {
     "name": "stdout",
     "output_type": "stream",
     "text": [
      "0 74 457.7945683060214 0.0027470169588923454 457.7918212890625\n"
     ]
    },
    {
     "name": "stderr",
     "output_type": "stream",
     "text": [
      " 12%|█▏        | 79/648 [02:18<15:57,  1.68s/it]"
     ]
    },
    {
     "name": "stdout",
     "output_type": "stream",
     "text": [
      "0 79 466.00155042619446 0.004608287522569299 465.9969421386719\n"
     ]
    },
    {
     "name": "stderr",
     "output_type": "stream",
     "text": [
      " 13%|█▎        | 84/648 [02:26<15:43,  1.67s/it]"
     ]
    },
    {
     "name": "stdout",
     "output_type": "stream",
     "text": [
      "0 84 463.33385441736317 0.00430729822255671 463.3295471191406\n"
     ]
    },
    {
     "name": "stderr",
     "output_type": "stream",
     "text": [
      " 14%|█▎        | 89/648 [02:35<15:37,  1.68s/it]"
     ]
    },
    {
     "name": "stdout",
     "output_type": "stream",
     "text": [
      "0 89 464.0975162688177 0.004370516864582896 464.0931457519531\n"
     ]
    },
    {
     "name": "stderr",
     "output_type": "stream",
     "text": [
      " 15%|█▍        | 94/648 [02:43<15:28,  1.68s/it]"
     ]
    },
    {
     "name": "stdout",
     "output_type": "stream",
     "text": [
      "0 94 446.4652971137315 0.0038225043565034865 446.461474609375\n"
     ]
    },
    {
     "name": "stderr",
     "output_type": "stream",
     "text": [
      " 15%|█▌        | 99/648 [02:51<15:23,  1.68s/it]"
     ]
    },
    {
     "name": "stdout",
     "output_type": "stream",
     "text": [
      "0 99 436.689015124226 0.003321764850988984 436.685693359375\n"
     ]
    },
    {
     "name": "stderr",
     "output_type": "stream",
     "text": [
      " 16%|█▌        | 104/648 [02:59<15:13,  1.68s/it]"
     ]
    },
    {
     "name": "stdout",
     "output_type": "stream",
     "text": [
      "0 104 437.1658110151999 0.0030180464498698713 437.16279296875\n"
     ]
    },
    {
     "name": "stderr",
     "output_type": "stream",
     "text": [
      " 17%|█▋        | 109/648 [03:08<15:05,  1.68s/it]"
     ]
    },
    {
     "name": "stdout",
     "output_type": "stream",
     "text": [
      "0 109 458.99180139070376 0.003343138750642538 458.98845825195315\n"
     ]
    },
    {
     "name": "stderr",
     "output_type": "stream",
     "text": [
      " 18%|█▊        | 114/648 [03:16<14:55,  1.68s/it]"
     ]
    },
    {
     "name": "stdout",
     "output_type": "stream",
     "text": [
      "0 114 451.1339710639324 0.003581659635528922 451.13038940429686\n"
     ]
    },
    {
     "name": "stderr",
     "output_type": "stream",
     "text": [
      " 18%|█▊        | 119/648 [03:24<14:52,  1.69s/it]"
     ]
    },
    {
     "name": "stdout",
     "output_type": "stream",
     "text": [
      "0 119 447.7798511540983 0.0038257634732872248 447.776025390625\n"
     ]
    },
    {
     "name": "stderr",
     "output_type": "stream",
     "text": [
      " 19%|█▊        | 120/648 [03:32<15:34,  1.77s/it]\n"
     ]
    },
    {
     "ename": "KeyboardInterrupt",
     "evalue": "",
     "output_type": "error",
     "traceback": [
      "\u001b[0;31m---------------------------------------------------------------------------\u001b[0m",
      "\u001b[0;31mKeyboardInterrupt\u001b[0m                         Traceback (most recent call last)",
      "\u001b[1;32m/root/data/linum/test.ipynb Cell 6\u001b[0m line \u001b[0;36m2\n\u001b[1;32m     <a href='vscode-notebook-cell://k8s-container%2Bcontext%3Dnautilus%2Bpodname%3Dsemantic3%2Bnamespace%3Dsvcl-handpose%2Bname%3Dmypod%2Bimage%3Ddocker.io%252fbasujindal%252fpytorch%253alatest/root/data/linum/test.ipynb#W5sdnNjb2RlLXJlbW90ZQ%3D%3D?line=17'>18</a>\u001b[0m mask_loss \u001b[39m=\u001b[39m bce(mask_pred, masks)\n\u001b[1;32m     <a href='vscode-notebook-cell://k8s-container%2Bcontext%3Dnautilus%2Bpodname%3Dsemantic3%2Bnamespace%3Dsvcl-handpose%2Bname%3Dmypod%2Bimage%3Ddocker.io%252fbasujindal%252fpytorch%253alatest/root/data/linum/test.ipynb#W5sdnNjb2RlLXJlbW90ZQ%3D%3D?line=18'>19</a>\u001b[0m loss \u001b[39m=\u001b[39m mask_loss \u001b[39m+\u001b[39m img_loss\n\u001b[0;32m---> <a href='vscode-notebook-cell://k8s-container%2Bcontext%3Dnautilus%2Bpodname%3Dsemantic3%2Bnamespace%3Dsvcl-handpose%2Bname%3Dmypod%2Bimage%3Ddocker.io%252fbasujindal%252fpytorch%253alatest/root/data/linum/test.ipynb#W5sdnNjb2RlLXJlbW90ZQ%3D%3D?line=20'>21</a>\u001b[0m loss\u001b[39m.\u001b[39;49mbackward()\n\u001b[1;32m     <a href='vscode-notebook-cell://k8s-container%2Bcontext%3Dnautilus%2Bpodname%3Dsemantic3%2Bnamespace%3Dsvcl-handpose%2Bname%3Dmypod%2Bimage%3Ddocker.io%252fbasujindal%252fpytorch%253alatest/root/data/linum/test.ipynb#W5sdnNjb2RlLXJlbW90ZQ%3D%3D?line=21'>22</a>\u001b[0m optimizer\u001b[39m.\u001b[39mstep()\n\u001b[1;32m     <a href='vscode-notebook-cell://k8s-container%2Bcontext%3Dnautilus%2Bpodname%3Dsemantic3%2Bnamespace%3Dsvcl-handpose%2Bname%3Dmypod%2Bimage%3Ddocker.io%252fbasujindal%252fpytorch%253alatest/root/data/linum/test.ipynb#W5sdnNjb2RlLXJlbW90ZQ%3D%3D?line=23'>24</a>\u001b[0m img_losses\u001b[39m+\u001b[39m\u001b[39m=\u001b[39mimg_loss\u001b[39m.\u001b[39mitem()\n",
      "File \u001b[0;32m~/miniconda3/envs/myenv/lib/python3.8/site-packages/torch/_tensor.py:525\u001b[0m, in \u001b[0;36mTensor.backward\u001b[0;34m(self, gradient, retain_graph, create_graph, inputs)\u001b[0m\n\u001b[1;32m    515\u001b[0m \u001b[39mif\u001b[39;00m has_torch_function_unary(\u001b[39mself\u001b[39m):\n\u001b[1;32m    516\u001b[0m     \u001b[39mreturn\u001b[39;00m handle_torch_function(\n\u001b[1;32m    517\u001b[0m         Tensor\u001b[39m.\u001b[39mbackward,\n\u001b[1;32m    518\u001b[0m         (\u001b[39mself\u001b[39m,),\n\u001b[0;32m   (...)\u001b[0m\n\u001b[1;32m    523\u001b[0m         inputs\u001b[39m=\u001b[39minputs,\n\u001b[1;32m    524\u001b[0m     )\n\u001b[0;32m--> 525\u001b[0m torch\u001b[39m.\u001b[39;49mautograd\u001b[39m.\u001b[39;49mbackward(\n\u001b[1;32m    526\u001b[0m     \u001b[39mself\u001b[39;49m, gradient, retain_graph, create_graph, inputs\u001b[39m=\u001b[39;49minputs\n\u001b[1;32m    527\u001b[0m )\n",
      "File \u001b[0;32m~/miniconda3/envs/myenv/lib/python3.8/site-packages/torch/autograd/__init__.py:267\u001b[0m, in \u001b[0;36mbackward\u001b[0;34m(tensors, grad_tensors, retain_graph, create_graph, grad_variables, inputs)\u001b[0m\n\u001b[1;32m    262\u001b[0m     retain_graph \u001b[39m=\u001b[39m create_graph\n\u001b[1;32m    264\u001b[0m \u001b[39m# The reason we repeat the same comment below is that\u001b[39;00m\n\u001b[1;32m    265\u001b[0m \u001b[39m# some Python versions print out the first line of a multi-line function\u001b[39;00m\n\u001b[1;32m    266\u001b[0m \u001b[39m# calls in the traceback and some print out the last line\u001b[39;00m\n\u001b[0;32m--> 267\u001b[0m _engine_run_backward(\n\u001b[1;32m    268\u001b[0m     tensors,\n\u001b[1;32m    269\u001b[0m     grad_tensors_,\n\u001b[1;32m    270\u001b[0m     retain_graph,\n\u001b[1;32m    271\u001b[0m     create_graph,\n\u001b[1;32m    272\u001b[0m     inputs,\n\u001b[1;32m    273\u001b[0m     allow_unreachable\u001b[39m=\u001b[39;49m\u001b[39mTrue\u001b[39;49;00m,\n\u001b[1;32m    274\u001b[0m     accumulate_grad\u001b[39m=\u001b[39;49m\u001b[39mTrue\u001b[39;49;00m,\n\u001b[1;32m    275\u001b[0m )\n",
      "File \u001b[0;32m~/miniconda3/envs/myenv/lib/python3.8/site-packages/torch/autograd/graph.py:744\u001b[0m, in \u001b[0;36m_engine_run_backward\u001b[0;34m(t_outputs, *args, **kwargs)\u001b[0m\n\u001b[1;32m    742\u001b[0m     unregister_hooks \u001b[39m=\u001b[39m _register_logging_hooks_on_whole_graph(t_outputs)\n\u001b[1;32m    743\u001b[0m \u001b[39mtry\u001b[39;00m:\n\u001b[0;32m--> 744\u001b[0m     \u001b[39mreturn\u001b[39;00m Variable\u001b[39m.\u001b[39;49m_execution_engine\u001b[39m.\u001b[39;49mrun_backward(  \u001b[39m# Calls into the C++ engine to run the backward pass\u001b[39;49;00m\n\u001b[1;32m    745\u001b[0m         t_outputs, \u001b[39m*\u001b[39;49margs, \u001b[39m*\u001b[39;49m\u001b[39m*\u001b[39;49mkwargs\n\u001b[1;32m    746\u001b[0m     )  \u001b[39m# Calls into the C++ engine to run the backward pass\u001b[39;00m\n\u001b[1;32m    747\u001b[0m \u001b[39mfinally\u001b[39;00m:\n\u001b[1;32m    748\u001b[0m     \u001b[39mif\u001b[39;00m attach_logging_hooks:\n",
      "\u001b[0;31mKeyboardInterrupt\u001b[0m: "
     ]
    }
   ],
   "source": [
    "for epoch in range(epochs):\n",
    "\n",
    "    for images, src, masks in tqdm(dataloader):\n",
    "\n",
    "        unet.train()\n",
    "        \n",
    "       \n",
    "        images = images.to(device)\n",
    "        masks = masks.to(device)\n",
    "        src = src.to(device)\n",
    "        m = torch.sum(masks)\n",
    "        unet.zero_grad()\n",
    "\n",
    "        iter+=1\n",
    "        img_pred, mask_pred = unet(images)\n",
    "\n",
    "        img_loss = 2*torch.sum(torch.abs(masks.bool()*(img_pred-src)))/m\n",
    "        mask_loss = bce(mask_pred, masks)\n",
    "        loss = mask_loss + img_loss\n",
    "\n",
    "        loss.backward()\n",
    "        optimizer.step()\n",
    "\n",
    "        img_losses+=img_loss.item()\n",
    "        mask_losses+=mask_loss.item()\n",
    "\n",
    "        if (iter+1)%log_iter == 0:\n",
    "\n",
    "            if log:\n",
    "                wandb.log({\n",
    "                    'loss': (mask_losses+img_losses)/log_iter,\n",
    "                    'mask_loss': mask_losses/log_iter,\n",
    "                    'img_loss': img_losses/log_iter,\n",
    "                    'Corrupted Images': [wandb.Image(i) for i in images[:num_imgs].detach()],\n",
    "                    'Reconstructed Images' : [wandb.Image(i) for i in img_pred[:num_imgs].detach()],\n",
    "                    'Reconstructed Images' : [wandb.Image(i) for i in img_pred[:num_imgs].detach()],\n",
    "                    'Src Images' : [wandb.Image(i) for i in src[:num_imgs].detach()],\n",
    "                    'Masks' : [wandb.Image(i) for i in masks[:num_imgs].detach()],\n",
    "                    'Predicted Masks' : [wandb.Image(i) for i in (mask_pred[:num_imgs]).detach()],\n",
    "                    })\n",
    "\n",
    "            print(epoch, iter, (mask_losses+img_losses)/log_iter, mask_losses/log_iter,img_losses/log_iter)\n",
    "            mask_losses = 0\n",
    "            img_losses = 0"
   ]
  },
  {
   "cell_type": "code",
   "execution_count": null,
   "metadata": {},
   "outputs": [],
   "source": []
  },
  {
   "cell_type": "code",
   "execution_count": null,
   "metadata": {},
   "outputs": [],
   "source": []
  },
  {
   "cell_type": "code",
   "execution_count": null,
   "metadata": {},
   "outputs": [],
   "source": []
  }
 ],
 "metadata": {
  "kernelspec": {
   "display_name": "misc",
   "language": "python",
   "name": "python3"
  },
  "language_info": {
   "codemirror_mode": {
    "name": "ipython",
    "version": 3
   },
   "file_extension": ".py",
   "mimetype": "text/x-python",
   "name": "python",
   "nbconvert_exporter": "python",
   "pygments_lexer": "ipython3",
   "version": "3.8.19"
  }
 },
 "nbformat": 4,
 "nbformat_minor": 2
}
