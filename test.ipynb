{
 "cells": [
  {
   "cell_type": "code",
   "execution_count": 1,
   "metadata": {},
   "outputs": [
    {
     "name": "stderr",
     "output_type": "stream",
     "text": [
      "/root/miniconda3/envs/myenv/lib/python3.8/site-packages/tqdm/auto.py:21: TqdmWarning: IProgress not found. Please update jupyter and ipywidgets. See https://ipywidgets.readthedocs.io/en/stable/user_install.html\n",
      "  from .autonotebook import tqdm as notebook_tqdm\n"
     ]
    }
   ],
   "source": [
    "from contextlib import nullcontext\n",
    "import os\n",
    "import torch\n",
    "import numpy as np\n",
    "from datetime import datetime\n",
    "import time\n",
    "from prettytable import PrettyTable\n",
    "import os\n",
    "from PIL import Image\n",
    "import torch\n",
    "from torch.utils.data import Dataset, DataLoader\n",
    "from torchvision import transforms\n",
    "from tqdm import tqdm\n",
    "from img_utils import *\n",
    "import wandb\n",
    "import torch\n",
    "import torch.nn as nn\n",
    "\n",
    "\n",
    "class Timer:\n",
    "    def __init__(self, start_msg = \"\", end_msg = \"\"):\n",
    "    \n",
    "        self.start_msg = start_msg\n",
    "        self.end_msg = end_msg\n",
    "        \n",
    "    def __enter__(self):\n",
    "        if self.start_msg != \"\":\n",
    "            print(self.start_msg)\n",
    "        self.start_time = time.time()\n",
    "        return self\n",
    "\n",
    "    def __exit__(self, exc_type, exc_val, exc_tb):\n",
    "        elapsed_time = time.time() - self.start_time\n",
    "        print(self.end_msg, f\"{elapsed_time:.3f} sec\")\n",
    "\n",
    "\n",
    "def count_parameters(model, print_table = False):\n",
    "    \n",
    "    total_params = 0\n",
    "    \n",
    "    if(print_table):\n",
    "        table = PrettyTable([\"Modules\", \"Parameters\", \"dtype\", \"Required Grad\", \"Device\"]) \n",
    "    \n",
    "    for name, parameter in model.named_parameters():\n",
    "        params = parameter.numel()\n",
    "        \n",
    "        if(print_table):\n",
    "            table.add_row([name, parameter.shape, parameter.dtype, parameter.requires_grad, parameter.device ])\n",
    "            \n",
    "        total_params += params\n",
    "        \n",
    "    if(print_table):\n",
    "        print(table)\n",
    "        \n",
    "    if total_params/1e9 > 1:\n",
    "        print(f\"Total Trainable Params: {total_params/1e9} B\")\n",
    "    else:\n",
    "        print(f\"Total Trainable Params: {total_params/1e6} M\")\n",
    "        \n",
    "    return total_params\n",
    "\n",
    "\n",
    "\n",
    "class ImageMaskDataset(Dataset):\n",
    "    def __init__(self, image_dir, mask_dir, src_dir,transform=None, maskTransform=None):\n",
    "        self.image_dir = image_dir\n",
    "        self.mask_dir = mask_dir\n",
    "        self.src_dir = src_dir\n",
    "        self.transform = transform\n",
    "        self.maskTransform = maskTransform\n",
    "        self.image_names = sorted(os.listdir(image_dir))\n",
    "        self.src_names = sorted(os.listdir(src_dir))\n",
    "        self.mask_names = sorted(os.listdir(mask_dir))\n",
    "\n",
    "    def __len__(self):\n",
    "        return len(self.image_names)\n",
    "\n",
    "    def __getitem__(self, idx):\n",
    "        image_name = self.image_names[idx]\n",
    "        mask_name = self.mask_names[idx]\n",
    "        src_name = self.src_names[idx]\n",
    "        \n",
    "        image_path = os.path.join(self.image_dir, image_name)\n",
    "        mask_path = os.path.join(self.mask_dir, mask_name)\n",
    "        src_path = os.path.join(self.src_dir, src_name)\n",
    "        \n",
    "        image = Image.open(image_path).convert('RGB')\n",
    "        src = Image.open(src_path).convert('RGB')\n",
    "        mask = np.load(mask_path)\n",
    "        \n",
    "        \n",
    "        if self.transform:\n",
    "            image = self.transform(image)\n",
    "            src = self.transform(src)\n",
    "            mask = self.maskTransform(mask)\n",
    "        \n",
    "        return image, src,mask\n",
    "\n",
    "# Define the transforms\n",
    "transform = transforms.Compose([\n",
    "    transforms.ToTensor(),  # Convert PIL Image to tensor\n",
    "    transforms.Normalize((0.5,), (0.5,))  # Normalize the image to [0, 1]\n",
    "])\n",
    "maskTransform = transforms.Compose([\n",
    "    transforms.ToTensor(),  # Convert PIL Image to tensor\n",
    "])"
   ]
  },
  {
   "cell_type": "code",
   "execution_count": 2,
   "metadata": {},
   "outputs": [],
   "source": [
    "class ResnetBlock(nn.Module):\n",
    "    def __init__(self, out_c,padding=1):\n",
    "        super().__init__()\n",
    "\n",
    "        self.conv1 = nn.Conv2d(out_c,out_c,3,1,padding)\n",
    "        self.conv2 = nn.Conv2d(out_c,out_c,3,1,padding)\n",
    "        self.conv3 = nn.Conv2d(out_c,out_c,3,1,padding)\n",
    "        self.norm = nn.BatchNorm2d(out_c)\n",
    "        self.silu = nn.SiLU()\n",
    "\n",
    "    def forward(self, x):\n",
    "\n",
    "        x = self.conv3(self.conv2(self.conv1(x)))\n",
    "        x = self.norm(x) + x\n",
    "        x = self.silu(x)\n",
    "\n",
    "        return x\n",
    "\n",
    "\n",
    "\n",
    "class Encoder(nn.Module):\n",
    "    def __init__(self, in_c, out_c,  padding=1):\n",
    "        super().__init__()\n",
    "\n",
    "        self.conv1 = nn.Conv2d(in_c,out_c,3,1,padding)\n",
    "        self.conv2 = nn.Conv2d(out_c,out_c,3,1,padding)\n",
    "        self.conv3 = nn.Conv2d(out_c,out_c,3,1,padding)\n",
    "\n",
    "        self.resBlocks = nn.ModuleList([ResnetBlock(out_c, padding) for i in range(3)])\n",
    "\n",
    "        self.silu = nn.SiLU()\n",
    "        self.pool = nn.MaxPool2d(2)\n",
    "\n",
    "    def forward(self, x):\n",
    "\n",
    "        x = self.conv3(self.conv2(self.conv1(x)))\n",
    "        x = self.silu(x)\n",
    "\n",
    "        for block in self.resBlocks:\n",
    "            x = block(x)\n",
    "\n",
    "        return self.pool(x), x\n",
    "\n",
    "\n",
    "class Decoder(nn.Module):\n",
    "    def __init__(self, in_c, out_c, img_sizes, padding=1):\n",
    "        super().__init__()\n",
    "\n",
    "        self.upsample = nn.Upsample(size=img_sizes, mode=\"bilinear\")\n",
    "\n",
    "\n",
    "        self.conv1 = nn.Conv2d(in_c,in_c,3,1, padding)\n",
    "        self.conv2 = nn.Conv2d(in_c,in_c,3,1, padding)\n",
    "        self.conv3 = nn.Conv2d(in_c,in_c//2,3,1, padding)\n",
    "\n",
    "\n",
    "        self.conv4 = nn.Conv2d(in_c,out_c,3,1, padding)\n",
    "        self.conv5 = nn.Conv2d(out_c,out_c,3,1, padding)\n",
    "        self.conv6 = nn.Conv2d(out_c,out_c,3,1, padding)\n",
    "\n",
    "\n",
    "        self.resBlocks = nn.ModuleList([ResnetBlock(out_c, padding) for i in range(3)])\n",
    "\n",
    "        self.silu = nn.SiLU()\n",
    "\n",
    "    def forward(self, x, skip):\n",
    "\n",
    "        x = self.upsample(x)\n",
    "        x = self.conv3(self.conv2(self.conv1(x)))\n",
    "        x = torch.cat((x, skip), dim = 1)\n",
    "        x = self.conv6(self.conv5(self.conv4(x)))\n",
    "        x = self.silu(x)\n",
    "\n",
    "        for block in self.resBlocks:\n",
    "\n",
    "            x = block(x)\n",
    "\n",
    "        return x\n",
    "\n",
    "\n",
    "class Unet(nn.Module):\n",
    "    def __init__(self):\n",
    "        super().__init__()\n",
    "\n",
    "        self.encoders = nn.ModuleList([Encoder(*i) for i in [(3,32), (32,64), (64, 128), (128, 256), (256, 512)]])\n",
    "\n",
    "        self.decoders = nn.ModuleList([Decoder(*i) for i in [(512,256, (21,37)), (256,128,(42,74)), (128, 64,(84,149)), (64, 32,(168,298))]])\n",
    "\n",
    "        self.imgDecoder = nn.Conv2d(32,3,1,1)\n",
    "        self.tanh = nn.Tanh()\n",
    "\n",
    "        self.maskDecoder = nn.Conv2d(32,1,1,1)\n",
    "        self.sigmoid = nn.Sigmoid()\n",
    "\n",
    "\n",
    "    def forward(self, x):\n",
    "\n",
    "        skips = []\n",
    "        for enc in self.encoders:\n",
    "            x, skip = enc(x)\n",
    "            skips.append(skip)\n",
    "\n",
    "        x = skips[-1]\n",
    "\n",
    "        for idx, dec in enumerate(self.decoders):\n",
    "            x = dec(x, skips[3-idx])\n",
    "\n",
    "        image = self.tanh(self.imgDecoder(x))\n",
    "        mask = self.maskDecoder(x)\n",
    "        return image, self.sigmoid(mask)"
   ]
  },
  {
   "cell_type": "code",
   "execution_count": 3,
   "metadata": {},
   "outputs": [
    {
     "name": "stdout",
     "output_type": "stream",
     "text": [
      "Total Trainable Params: 54.183108 M\n"
     ]
    }
   ],
   "source": [
    "lr = 1e-4\n",
    "# bce = nn.BCEWithLogitsLoss()\n",
    "bce = nn.BCELoss()\n",
    "bs = 64\n",
    "\n",
    "\n",
    "device = \"cuda\" if torch.cuda.is_available() else \"cpu\"\n",
    "# device = \"cpu\"\n",
    "unet = Unet().to(device)\n",
    "\n",
    "optimizer = torch.optim.AdamW(unet.parameters(), lr)\n",
    "\n",
    "image_dir = '/root/data/linum/train/corrupted_imgs/'\n",
    "mask_dir = '/root/data/linum/train/binary_masks/'\n",
    "src_dir = '/root/data/linum/train/src_imgs/'\n",
    "nparams = count_parameters(unet, print_table=False)\n",
    "dataset = ImageMaskDataset(image_dir=image_dir, mask_dir=mask_dir, src_dir = src_dir,transform=transform, maskTransform = maskTransform)\n",
    "dataloader = DataLoader(dataset, batch_size=bs, shuffle=True, num_workers=24)\n"
   ]
  },
  {
   "cell_type": "code",
   "execution_count": 4,
   "metadata": {},
   "outputs": [
    {
     "name": "stderr",
     "output_type": "stream",
     "text": [
      "Failed to detect the name of this notebook, you can set it manually with the WANDB_NOTEBOOK_NAME environment variable to enable code saving.\n",
      "\u001b[34m\u001b[1mwandb\u001b[0m: Currently logged in as: \u001b[33mbasujindal\u001b[0m (\u001b[33mbasujindal123\u001b[0m). Use \u001b[1m`wandb login --relogin`\u001b[0m to force relogin\n"
     ]
    },
    {
     "data": {
      "text/html": [
       "wandb version 0.17.0 is available!  To upgrade, please run:\n",
       " $ pip install wandb --upgrade"
      ],
      "text/plain": [
       "<IPython.core.display.HTML object>"
      ]
     },
     "metadata": {},
     "output_type": "display_data"
    },
    {
     "data": {
      "text/html": [
       "Tracking run with wandb version 0.16.6"
      ],
      "text/plain": [
       "<IPython.core.display.HTML object>"
      ]
     },
     "metadata": {},
     "output_type": "display_data"
    },
    {
     "data": {
      "text/html": [
       "Run data is saved locally in <code>/root/data/linum/wandb/run-20240521_053302-o2fqfsnl</code>"
      ],
      "text/plain": [
       "<IPython.core.display.HTML object>"
      ]
     },
     "metadata": {},
     "output_type": "display_data"
    },
    {
     "data": {
      "text/html": [
       "Syncing run <strong><a href='https://wandb.ai/basujindal123/linum/runs/o2fqfsnl' target=\"_blank\">atomic-paper-11</a></strong> to <a href='https://wandb.ai/basujindal123/linum' target=\"_blank\">Weights & Biases</a> (<a href='https://wandb.me/run' target=\"_blank\">docs</a>)<br/>"
      ],
      "text/plain": [
       "<IPython.core.display.HTML object>"
      ]
     },
     "metadata": {},
     "output_type": "display_data"
    },
    {
     "data": {
      "text/html": [
       " View project at <a href='https://wandb.ai/basujindal123/linum' target=\"_blank\">https://wandb.ai/basujindal123/linum</a>"
      ],
      "text/plain": [
       "<IPython.core.display.HTML object>"
      ]
     },
     "metadata": {},
     "output_type": "display_data"
    },
    {
     "data": {
      "text/html": [
       " View run at <a href='https://wandb.ai/basujindal123/linum/runs/o2fqfsnl' target=\"_blank\">https://wandb.ai/basujindal123/linum/runs/o2fqfsnl</a>"
      ],
      "text/plain": [
       "<IPython.core.display.HTML object>"
      ]
     },
     "metadata": {},
     "output_type": "display_data"
    }
   ],
   "source": [
    "log = False\n",
    "log = True\n",
    "log_iter = 10\n",
    "img_losses = 0\n",
    "mask_losses = 0\n",
    "iter = 0\n",
    "epochs = 25\n",
    "\n",
    "if log:\n",
    "    config={\"epochs\": epochs, \"batch_size\": bs,\"lr\": lr}\n",
    "    wandb.init(project='linum', entity='basujindal123', config=config)"
   ]
  },
  {
   "cell_type": "code",
   "execution_count": 5,
   "metadata": {},
   "outputs": [],
   "source": [
    "# convert_img_tensor_to_pil_img((masks.bool()*images)[0])\n",
    "# convert_img_tensor_to_pil_img((images)[0])\n",
    "# # convert_mask_tensor_to_pil_img(masks[0])\n",
    "# unet = torch.compile(unet)"
   ]
  },
  {
   "cell_type": "code",
   "execution_count": 6,
   "metadata": {},
   "outputs": [
    {
     "name": "stderr",
     "output_type": "stream",
     "text": [
      "  0%|          | 0/486 [00:00<?, ?it/s]/root/miniconda3/envs/myenv/lib/python3.8/site-packages/torch/nn/modules/conv.py:456: UserWarning: Plan failed with a cudnnException: CUDNN_BACKEND_EXECUTION_PLAN_DESCRIPTOR: cudnnFinalize Descriptor Failed cudnn_status: CUDNN_STATUS_NOT_SUPPORTED (Triggered internally at ../aten/src/ATen/native/cudnn/Conv_v8.cpp:919.)\n",
      "  return F.conv2d(input, weight, bias, self.stride,\n",
      "  2%|▏         | 9/486 [00:21<15:20,  1.93s/it]  "
     ]
    },
    {
     "name": "stdout",
     "output_type": "stream",
     "text": [
      "0 9 366976.6550709605 0.551945960521698 366976.103125\n"
     ]
    },
    {
     "name": "stderr",
     "output_type": "stream",
     "text": [
      "  4%|▍         | 19/486 [00:36<12:42,  1.63s/it]"
     ]
    },
    {
     "name": "stdout",
     "output_type": "stream",
     "text": [
      "0 19 303084.4632947564 0.6398572564125061 303083.8234375\n"
     ]
    },
    {
     "name": "stderr",
     "output_type": "stream",
     "text": [
      "  6%|▌         | 29/486 [00:50<11:47,  1.55s/it]"
     ]
    },
    {
     "name": "stdout",
     "output_type": "stream",
     "text": [
      "0 29 266609.66131361126 0.6535011112689972 266609.0078125\n"
     ]
    },
    {
     "name": "stderr",
     "output_type": "stream",
     "text": [
      "  8%|▊         | 37/486 [01:09<14:05,  1.88s/it]\n"
     ]
    },
    {
     "ename": "KeyboardInterrupt",
     "evalue": "",
     "output_type": "error",
     "traceback": [
      "\u001b[0;31m---------------------------------------------------------------------------\u001b[0m",
      "\u001b[0;31mKeyboardInterrupt\u001b[0m                         Traceback (most recent call last)",
      "\u001b[1;32m/root/data/linum/test.ipynb Cell 6\u001b[0m line \u001b[0;36m2\n\u001b[1;32m     <a href='vscode-notebook-cell://k8s-container%2Bcontext%3Dnautilus%2Bpodname%3Dsemantic3%2Bnamespace%3Dsvcl-handpose%2Bname%3Dmypod%2Bimage%3Ddocker.io%252fbasujindal%252fpytorch%253alatest/root/data/linum/test.ipynb#W5sdnNjb2RlLXJlbW90ZQ%3D%3D?line=20'>21</a>\u001b[0m loss\u001b[39m.\u001b[39mbackward()\n\u001b[1;32m     <a href='vscode-notebook-cell://k8s-container%2Bcontext%3Dnautilus%2Bpodname%3Dsemantic3%2Bnamespace%3Dsvcl-handpose%2Bname%3Dmypod%2Bimage%3Ddocker.io%252fbasujindal%252fpytorch%253alatest/root/data/linum/test.ipynb#W5sdnNjb2RlLXJlbW90ZQ%3D%3D?line=21'>22</a>\u001b[0m optimizer\u001b[39m.\u001b[39mstep()\n\u001b[0;32m---> <a href='vscode-notebook-cell://k8s-container%2Bcontext%3Dnautilus%2Bpodname%3Dsemantic3%2Bnamespace%3Dsvcl-handpose%2Bname%3Dmypod%2Bimage%3Ddocker.io%252fbasujindal%252fpytorch%253alatest/root/data/linum/test.ipynb#W5sdnNjb2RlLXJlbW90ZQ%3D%3D?line=23'>24</a>\u001b[0m img_losses\u001b[39m+\u001b[39m\u001b[39m=\u001b[39mimg_loss\u001b[39m.\u001b[39;49mitem()\n\u001b[1;32m     <a href='vscode-notebook-cell://k8s-container%2Bcontext%3Dnautilus%2Bpodname%3Dsemantic3%2Bnamespace%3Dsvcl-handpose%2Bname%3Dmypod%2Bimage%3Ddocker.io%252fbasujindal%252fpytorch%253alatest/root/data/linum/test.ipynb#W5sdnNjb2RlLXJlbW90ZQ%3D%3D?line=24'>25</a>\u001b[0m mask_losses\u001b[39m+\u001b[39m\u001b[39m=\u001b[39mmask_loss\u001b[39m.\u001b[39mitem()\n\u001b[1;32m     <a href='vscode-notebook-cell://k8s-container%2Bcontext%3Dnautilus%2Bpodname%3Dsemantic3%2Bnamespace%3Dsvcl-handpose%2Bname%3Dmypod%2Bimage%3Ddocker.io%252fbasujindal%252fpytorch%253alatest/root/data/linum/test.ipynb#W5sdnNjb2RlLXJlbW90ZQ%3D%3D?line=26'>27</a>\u001b[0m \u001b[39mif\u001b[39;00m (\u001b[39miter\u001b[39m\u001b[39m+\u001b[39m\u001b[39m1\u001b[39m)\u001b[39m%\u001b[39mlog_iter \u001b[39m==\u001b[39m \u001b[39m0\u001b[39m:\n",
      "\u001b[0;31mKeyboardInterrupt\u001b[0m: "
     ]
    }
   ],
   "source": [
    "for epoch in range(epochs):\n",
    "\n",
    "    for images, src, masks in tqdm(dataloader):\n",
    "\n",
    "        unet.train()\n",
    "        \n",
    "       \n",
    "        images = images.to(device)\n",
    "        masks = masks.to(device)\n",
    "        src = src.to(device)\n",
    "        m = torch.sum(masks)\n",
    "        unet.zero_grad()\n",
    "\n",
    "        iter+=1\n",
    "        img_pred, mask_pred = unet(images)\n",
    "\n",
    "        img_loss = torch.sum(torch.abs(masks.bool()*(img_pred-src)))/(100*m)\n",
    "        mask_loss = bce(mask_pred, masks)\n",
    "        loss = 50*mask_loss + 2*img_loss\n",
    "\n",
    "        loss.backward()\n",
    "        optimizer.step()\n",
    "\n",
    "        img_losses+=img_loss.item()\n",
    "        mask_losses+=mask_loss.item()\n",
    "\n",
    "        if (iter+1)%log_iter == 0:\n",
    "\n",
    "            if log:\n",
    "                wandb.log({\n",
    "                    'loss': (mask_losses+img_losses)/log_iter,\n",
    "                    'mask_loss': mask_losses/log_iter,\n",
    "                    'img_loss': img_losses/log_iter,\n",
    "                    'Corrupted Images': [wandb.Image(i) for i in images[:4].detach()],\n",
    "                    'Reconstructed Images' : [wandb.Image(i) for i in img_pred[:4].detach()],\n",
    "                    'Src Images' : [wandb.Image(i) for i in src[:4].detach()],\n",
    "                    'Masks' : [wandb.Image(i) for i in masks[:4].detach()],\n",
    "                    'Predicted Masks' : [wandb.Image(i) for i in (mask_pred[:4]).detach()],\n",
    "                    })\n",
    "\n",
    "            print(epoch, iter, (mask_losses+img_losses)/log_iter, mask_losses/log_iter,img_losses/log_iter)\n",
    "            mask_losses = 0\n",
    "            img_losses = 0"
   ]
  },
  {
   "cell_type": "code",
   "execution_count": null,
   "metadata": {},
   "outputs": [],
   "source": []
  },
  {
   "cell_type": "code",
   "execution_count": null,
   "metadata": {},
   "outputs": [],
   "source": []
  }
 ],
 "metadata": {
  "kernelspec": {
   "display_name": "misc",
   "language": "python",
   "name": "python3"
  },
  "language_info": {
   "codemirror_mode": {
    "name": "ipython",
    "version": 3
   },
   "file_extension": ".py",
   "mimetype": "text/x-python",
   "name": "python",
   "nbconvert_exporter": "python",
   "pygments_lexer": "ipython3",
   "version": "3.8.19"
  }
 },
 "nbformat": 4,
 "nbformat_minor": 2
}
